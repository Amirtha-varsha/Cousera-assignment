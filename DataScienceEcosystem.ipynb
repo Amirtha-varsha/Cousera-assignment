{
 "cells": [
  {
   "cell_type": "markdown",
   "id": "5b54dcc4-c336-4cfd-a0de-12f9f72d10ff",
   "metadata": {},
   "source": [
    "# Data Science Tools and Ecosystem"
   ]
  },
  {
   "cell_type": "markdown",
   "id": "6fc1d65f-f916-4015-b23f-64606181a1c4",
   "metadata": {},
   "source": [
    "In this notebook, Data Science Tools and Ecosystem are summarized."
   ]
  },
  {
   "cell_type": "markdown",
   "id": "c671bbb7-2af4-404b-9e2c-1281043f11f4",
   "metadata": {},
   "source": [
    "**Objectives:**\n",
    "* popular languages\n",
    "* commonly used tools\n",
    "* commonly used libraries"
   ]
  },
  {
   "cell_type": "markdown",
   "id": "185d16ea-7f28-4e32-859a-7ea60038f2d9",
   "metadata": {},
   "source": [
    "Some of the popular languages that Data Scientists use are:\n",
    "1. Python\n",
    "2. R\n",
    "3. Scala\n",
    "4. Ruby"
   ]
  },
  {
   "cell_type": "markdown",
   "id": "7a6e58a7-62ce-41bc-afc5-538b9daef225",
   "metadata": {},
   "source": [
    "Some of the commonly used libraries used by Data Scientists include:\n",
    "1. Numpy\n",
    "2. Matplot\n",
    "3. Scikit learn\n",
    "4. pandas\n",
    "5. Tensor flow"
   ]
  },
  {
   "cell_type": "markdown",
   "id": "12bb69d7-7ca6-4590-be12-feb86e81ffe5",
   "metadata": {},
   "source": [
    "| Data Science Tools      |\r\n",
    "|-------------------------|\r\n",
    "| Jupyter Notebooks       |\r\n",
    "| RStudio                 |\r\n",
    "| Apache Zeppelin         |\r\n"
   ]
  },
  {
   "cell_type": "markdown",
   "id": "e4d5a989-93b4-4887-a101-a642df20870d",
   "metadata": {},
   "source": [
    "### Below are a few examples of evaluating arithmetic expressions in Python"
   ]
  },
  {
   "cell_type": "code",
   "execution_count": 2,
   "id": "ed810753-4e55-46ca-824d-d7bc96a3fa82",
   "metadata": {},
   "outputs": [
    {
     "data": {
      "text/plain": [
       "17"
      ]
     },
     "execution_count": 2,
     "metadata": {},
     "output_type": "execute_result"
    }
   ],
   "source": [
    "#This a simple arithmetic expression to mutiply then add integers\n",
    "(3*4)+5"
   ]
  },
  {
   "cell_type": "code",
   "execution_count": 4,
   "id": "d8d67fc2-0531-4c08-8838-6a78255962e6",
   "metadata": {},
   "outputs": [
    {
     "data": {
      "text/plain": [
       "3.3333333333333335"
      ]
     },
     "execution_count": 4,
     "metadata": {},
     "output_type": "execute_result"
    }
   ],
   "source": [
    "# This will convert 200 minutes to hours by diving by 60\n",
    "minutes = 200\n",
    "hours = minutes / 60\n",
    "hours"
   ]
  },
  {
   "cell_type": "markdown",
   "id": "bf523474-7ff2-400c-85a3-4b708efaf7a5",
   "metadata": {},
   "source": [
    "## Author\n",
    "Amirtha Varsha"
   ]
  },
  {
   "cell_type": "code",
   "execution_count": null,
   "id": "9e98a877-fd84-4310-82b0-e6c2c2b30251",
   "metadata": {},
   "outputs": [],
   "source": []
  }
 ],
 "metadata": {
  "kernelspec": {
   "display_name": "Python 3 (ipykernel)",
   "language": "python",
   "name": "python3"
  },
  "language_info": {
   "codemirror_mode": {
    "name": "ipython",
    "version": 3
   },
   "file_extension": ".py",
   "mimetype": "text/x-python",
   "name": "python",
   "nbconvert_exporter": "python",
   "pygments_lexer": "ipython3",
   "version": "3.11.7"
  }
 },
 "nbformat": 4,
 "nbformat_minor": 5
}
